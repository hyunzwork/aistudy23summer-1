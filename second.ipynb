{
  "nbformat": 4,
  "nbformat_minor": 0,
  "metadata": {
    "colab": {
      "provenance": [],
      "authorship_tag": "ABX9TyPSck/R8UhxQrxmpRdA8Xnh",
      "include_colab_link": true
    },
    "kernelspec": {
      "name": "python3",
      "display_name": "Python 3"
    },
    "language_info": {
      "name": "python"
    }
  },
  "cells": [
    {
      "cell_type": "markdown",
      "metadata": {
        "id": "view-in-github",
        "colab_type": "text"
      },
      "source": [
        "<a href=\"https://colab.research.google.com/github/hyunzwork/aistudy23summer-1/blob/main/second.ipynb\" target=\"_parent\"><img src=\"https://colab.research.google.com/assets/colab-badge.svg\" alt=\"Open In Colab\"/></a>"
      ]
    },
    {
      "cell_type": "code",
      "execution_count": null,
      "metadata": {
        "id": "AYg2n0qMxXwK"
      },
      "outputs": [],
      "source": [
        "from tensorflow import keras"
      ]
    },
    {
      "cell_type": "code",
      "source": [
        "(train_input,train_target),(test_input,test_target) = /"
      ],
      "metadata": {
        "id": "LfE3cSRLyPpm"
      },
      "execution_count": null,
      "outputs": []
    },
    {
      "cell_type": "code",
      "source": [
        "  keras.datasetsets.fashion_mnist.load_data()"
      ],
      "metadata": {
        "id": "mCa2XZ9y06Qq"
      },
      "execution_count": null,
      "outputs": []
    },
    {
      "cell_type": "markdown",
      "source": [
        "\"\"\"\n",
        "load_data() 함수는 훈련 데이터와 테스트 데이터를 나눠서 변환함\n",
        "\"\"\""
      ],
      "metadata": {
        "id": "WKkXEYDW0on7"
      }
    },
    {
      "cell_type": "code",
      "source": [
        "print(train_input.shape, train_target.shape)"
      ],
      "metadata": {
        "id": "isPNL36W1_kn"
      },
      "execution_count": null,
      "outputs": []
    },
    {
      "cell_type": "markdown",
      "source": [
        "\"\"\"\n",
        "전달받은 데이터의 크기를 확인하는 과정임\n",
        "\"\"\""
      ],
      "metadata": {
        "id": "TGEYm26C2Lo3"
      }
    },
    {
      "cell_type": "code",
      "source": [
        "print(test_input.shape, test_target.shape)"
      ],
      "metadata": {
        "id": "lerhD-S62y9u"
      },
      "execution_count": null,
      "outputs": []
    },
    {
      "cell_type": "markdown",
      "source": [
        "\"\"\"\n",
        "테스트 할 패키지의 크기를 확인해보는 과정임\n",
        "\"\"\""
      ],
      "metadata": {
        "id": "QTunZO6_28G-"
      }
    },
    {
      "cell_type": "code",
      "source": [
        "import matplotlib.pyplot as plt"
      ],
      "metadata": {
        "id": "pjTUnnfW3bef"
      },
      "execution_count": null,
      "outputs": []
    },
    {
      "cell_type": "markdown",
      "source": [
        "\"\"\"\n",
        "matplotlib 이란 데이터를 시각화시켜줄 수 있게 해주는 툴 임\n",
        "\"\"\""
      ],
      "metadata": {
        "id": "q_CpR1z-3nRv"
      }
    },
    {
      "cell_type": "code",
      "source": [],
      "metadata": {
        "id": "3R5ft4jEAW5D"
      },
      "execution_count": null,
      "outputs": []
    }
  ]
}