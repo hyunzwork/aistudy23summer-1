{
  "nbformat": 4,
  "nbformat_minor": 0,
  "metadata": {
    "colab": {
      "provenance": [],
      "authorship_tag": "ABX9TyOLhj7Bu25WYZO/fpM58tps",
      "include_colab_link": true
    },
    "kernelspec": {
      "name": "python3",
      "display_name": "Python 3"
    },
    "language_info": {
      "name": "python"
    }
  },
  "cells": [
    {
      "cell_type": "markdown",
      "metadata": {
        "id": "view-in-github",
        "colab_type": "text"
      },
      "source": [
        "<a href=\"https://colab.research.google.com/github/hyunzwork/aistudy23summer-1/blob/main/20230731-2.ipynb\" target=\"_parent\"><img src=\"https://colab.research.google.com/assets/colab-badge.svg\" alt=\"Open In Colab\"/></a>"
      ]
    },
    {
      "cell_type": "code",
      "execution_count": 2,
      "metadata": {
        "id": "vFSjLDj1vF8u"
      },
      "outputs": [],
      "source": [
        "from tensorflow import keras"
      ]
    },
    {
      "cell_type": "code",
      "source": [
        "(train_input,train_target),(test_input,test_target) = keras.datasets.fashion_mnist.load_data()"
      ],
      "metadata": {
        "colab": {
          "base_uri": "https://localhost:8080/"
        },
        "id": "FNjB4lh6vRec",
        "outputId": "577c26b6-c303-41b3-925c-9c748dddc3d6"
      },
      "execution_count": 3,
      "outputs": [
        {
          "output_type": "stream",
          "name": "stdout",
          "text": [
            "Downloading data from https://storage.googleapis.com/tensorflow/tf-keras-datasets/train-labels-idx1-ubyte.gz\n",
            "29515/29515 [==============================] - 0s 0us/step\n",
            "Downloading data from https://storage.googleapis.com/tensorflow/tf-keras-datasets/train-images-idx3-ubyte.gz\n",
            "26421880/26421880 [==============================] - 0s 0us/step\n",
            "Downloading data from https://storage.googleapis.com/tensorflow/tf-keras-datasets/t10k-labels-idx1-ubyte.gz\n",
            "5148/5148 [==============================] - 0s 0us/step\n",
            "Downloading data from https://storage.googleapis.com/tensorflow/tf-keras-datasets/t10k-images-idx3-ubyte.gz\n",
            "4422102/4422102 [==============================] - 0s 0us/step\n"
          ]
        }
      ]
    },
    {
      "cell_type": "code",
      "source": [
        "print(train_input.shape,train_target.shape)"
      ],
      "metadata": {
        "colab": {
          "base_uri": "https://localhost:8080/"
        },
        "id": "l_TY8nU_voIs",
        "outputId": "d9da5dd3-a654-4977-80d3-34691a754a68"
      },
      "execution_count": 6,
      "outputs": [
        {
          "output_type": "stream",
          "name": "stdout",
          "text": [
            "(60000, 28, 28) (60000,)\n"
          ]
        }
      ]
    },
    {
      "cell_type": "code",
      "source": [
        "print(train_target)"
      ],
      "metadata": {
        "colab": {
          "base_uri": "https://localhost:8080/"
        },
        "id": "d-0_4C0uwBmZ",
        "outputId": "b574639e-1a0c-4904-87e1-5f9594285e88"
      },
      "execution_count": 7,
      "outputs": [
        {
          "output_type": "stream",
          "name": "stdout",
          "text": [
            "[9 0 0 ... 3 0 5]\n"
          ]
        }
      ]
    },
    {
      "cell_type": "code",
      "source": [
        "print(train_target[0])"
      ],
      "metadata": {
        "colab": {
          "base_uri": "https://localhost:8080/"
        },
        "id": "FmkBkP_twG_i",
        "outputId": "d9b84e9c-5c64-4163-b383-a4cda8ce8913"
      },
      "execution_count": 8,
      "outputs": [
        {
          "output_type": "stream",
          "name": "stdout",
          "text": [
            "9\n"
          ]
        }
      ]
    },
    {
      "cell_type": "code",
      "source": [
        "print(train_target[-2])"
      ],
      "metadata": {
        "colab": {
          "base_uri": "https://localhost:8080/"
        },
        "id": "Orx8ZI9owMDC",
        "outputId": "be779b98-03d7-4d36-b272-a8886e88e973"
      },
      "execution_count": 9,
      "outputs": [
        {
          "output_type": "stream",
          "name": "stdout",
          "text": [
            "0\n"
          ]
        }
      ]
    },
    {
      "cell_type": "code",
      "source": [
        "print(train_target[:3])"
      ],
      "metadata": {
        "colab": {
          "base_uri": "https://localhost:8080/"
        },
        "id": "M5aKNB_swRNq",
        "outputId": "5e03685a-52cb-4ba3-ed86-8049ea87ef8c"
      },
      "execution_count": 10,
      "outputs": [
        {
          "output_type": "stream",
          "name": "stdout",
          "text": [
            "[9 0 0]\n"
          ]
        }
      ]
    },
    {
      "cell_type": "code",
      "source": [
        "print(train_target[-1])"
      ],
      "metadata": {
        "colab": {
          "base_uri": "https://localhost:8080/"
        },
        "id": "pYKlsR-ywdVS",
        "outputId": "c02aaabf-cac3-4cd1-972e-7c610db6c755"
      },
      "execution_count": 11,
      "outputs": [
        {
          "output_type": "stream",
          "name": "stdout",
          "text": [
            "5\n"
          ]
        }
      ]
    },
    {
      "cell_type": "code",
      "source": [
        "print(train_target[-3:])"
      ],
      "metadata": {
        "colab": {
          "base_uri": "https://localhost:8080/"
        },
        "id": "aYY8tA7wwiO5",
        "outputId": "a6a98189-2d69-4537-ec62-72822165f1b2"
      },
      "execution_count": 12,
      "outputs": [
        {
          "output_type": "stream",
          "name": "stdout",
          "text": [
            "[3 0 5]\n"
          ]
        }
      ]
    },
    {
      "cell_type": "code",
      "source": [
        "print(test_input.shape,test_target.shape)"
      ],
      "metadata": {
        "colab": {
          "base_uri": "https://localhost:8080/"
        },
        "id": "lzgIcXN4woxK",
        "outputId": "4b2bfc81-0ade-4c88-90d7-2ba0310939ac"
      },
      "execution_count": 15,
      "outputs": [
        {
          "output_type": "stream",
          "name": "stdout",
          "text": [
            "(10000, 28, 28) (10000,)\n"
          ]
        }
      ]
    },
    {
      "cell_type": "code",
      "source": [
        "import matplotlib.pyplot as plt"
      ],
      "metadata": {
        "id": "DLsTi1Ibw7Ox"
      },
      "execution_count": 16,
      "outputs": []
    },
    {
      "cell_type": "code",
      "source": [
        "print(train_input[74])"
      ],
      "metadata": {
        "colab": {
          "base_uri": "https://localhost:8080/"
        },
        "id": "J2spQPzvw__Q",
        "outputId": "f38810aa-48d5-4d81-f8b3-fe6b6e0c8217"
      },
      "execution_count": 17,
      "outputs": [
        {
          "output_type": "stream",
          "name": "stdout",
          "text": [
            "[[  0   0   0   0   0   0   0   0   0   0  97 119 110 114 127 127 124 129\n",
            "  170   9   0   0   0   0   0   0   0   0]\n",
            " [  0   0   0   0   0   0   0   0   0   0 228 213 204 205 233 215 216 211\n",
            "  253 122   0   0   0   0   0   0   0   0]\n",
            " [  0   0   0   0   0   0   0   0   0  48 213 173 174 181 200 173 179 185\n",
            "  209 179   0   0   0   0   0   0   0   0]\n",
            " [  0   0   0   0   0   0   0   0   0  97 210 175 179 193 194 184 191 188\n",
            "  204 205   0   0   0   0   0   0   0   0]\n",
            " [  0   0   0   0   0   0   0   0   0 120 201 176 191 182 205 197 186 183\n",
            "  204 209   0   0   0   0   0   0   0   0]\n",
            " [  0   0   0   0   0   0   0   0   0 143 194 182 171 185 212 189 171 186\n",
            "  209 193   0   0   0   0   0   0   0   0]\n",
            " [  0   0   0   0   0   0   0   0   0 154 192 176 172 212 233 186 187 184\n",
            "  215 180   0   0   0   0   0   0   0   0]\n",
            " [  0   0   0   0   0   0   0   0   0 158 193 173 184 245 186 198 177 181\n",
            "  225 155   0   0   0   0   0   0   0   0]\n",
            " [  0   0   0   0   0   0   0   0   0 160 190 170 220 236  55 212 179 185\n",
            "  237 125   0   0   0   0   0   0   0   0]\n",
            " [  0   0   0   0   0   0   0   0   0 156 192 180 234 209   0 228 180 185\n",
            "  244  98   0   0   0   0   0   0   0   0]\n",
            " [  0   0   0   0   0   0   0   0   0 142 195 181 238 187   0 225 186 189\n",
            "  250  62   0   0   0   0   0   0   0   0]\n",
            " [  0   0   0   0   0   0   0   0   0 125 202 184 253 137   0 216 192 192\n",
            "  250  19   0   0   0   0   0   0   0   0]\n",
            " [  0   0   0   0   0   0   0   0   0 112 206 184 255  72   0 202 193 191\n",
            "  248   5   0   0   0   0   0   0   0   0]\n",
            " [  0   0   0   0   0   0   0   0   0 106 208 187 254   6   0 178 195 195\n",
            "  238   0   0   0   0   0   0   0   0   0]\n",
            " [  0   0   0   0   0   0   0   0   0 102 208 197 252   0   0 152 198 200\n",
            "  220   0   0   0   0   0   0   0   0   0]\n",
            " [  0   0   0   0   0   0   0   0   0 102 212 205 226   0   0 113 201 203\n",
            "  207   0   0   0   0   0   0   0   0   0]\n",
            " [  0   0   0   0   0   0   0   0   0  90 199 208 215   0   0  93 203 204\n",
            "  190   0   0   0   0   0   0   0   0   0]\n",
            " [  0   0   0   0   0   0   0   0   0  51 225 207 222   0   0 105 204 205\n",
            "  177   0   0   0   0   0   0   0   0   0]\n",
            " [  0   0   0   0   0   0   0   0   0  28 230 204 223   0   0 128 201 205\n",
            "  161   0   0   0   0   0   0   0   0   0]\n",
            " [  0   0   0   0   0   0   0   0   0  26 198 201 240   0   0 146 200 209\n",
            "  138   0   0   0   0   0   0   0   0   0]\n",
            " [  0   0   0   0   0   0   0   0   0   3 191 201 209   0   0 169 199 212\n",
            "  108   0   0   0   0   0   0   0   0   0]\n",
            " [  0   0   0   0   0   0   0   0   0   0 213 203 213   8   0 184 197 214\n",
            "   90   0   0   0   0   0   0   0   0   0]\n",
            " [  0   0   0   0   0   0   0   0   0   0 194 207 215  18   0 192 197 214\n",
            "   65   0   0   0   0   0   0   0   0   0]\n",
            " [  0   0   0   0   0   0   0   0   0   0 163 212 220  43   0 203 199 210\n",
            "   29   0   0   0   0   0   0   0   0   0]\n",
            " [  0   0   0   0   0   0   0   0   0   0 135 214 221  64   0 209 201 208\n",
            "    3   0   0   0   0   0   0   0   0   0]\n",
            " [  0   0   0   0   0   0   0   0   0   0  91 210 221  87   0 206 202 197\n",
            "    0   0   0   0   0   0   0   0   0   0]\n",
            " [  0   0   0   0   0   0   0   0   0   0  70 222 228  88   0 247 221 195\n",
            "    0   0   0   0   0   0   0   0   0   0]\n",
            " [  0   0   0   0   0   0   0   0   0   0   0 146  55   0   0  61 149 124\n",
            "    0   0   0   0   0   0   0   0   0   0]]\n"
          ]
        }
      ]
    },
    {
      "cell_type": "code",
      "source": [
        "74\n",
        "print(train_target[74])\n",
        "plt.figure()\n",
        "plt.imshow(train_input[74],cmap='gray')"
      ],
      "metadata": {
        "colab": {
          "base_uri": "https://localhost:8080/",
          "height": 466
        },
        "id": "AmqvL-xixFRA",
        "outputId": "b0e46833-324c-49ea-fa85-92567c005167"
      },
      "execution_count": 18,
      "outputs": [
        {
          "output_type": "stream",
          "name": "stdout",
          "text": [
            "1\n"
          ]
        },
        {
          "output_type": "execute_result",
          "data": {
            "text/plain": [
              "<matplotlib.image.AxesImage at 0x78263f613be0>"
            ]
          },
          "metadata": {},
          "execution_count": 18
        },
        {
          "output_type": "display_data",
          "data": {
            "text/plain": [
              "<Figure size 640x480 with 1 Axes>"
            ],
            "image/png": "[encoded data removed]"
          },
          "metadata": {}
        }
      ]
    },
    {
      "cell_type": "code",
      "source": [
        "print(train_input[74])"
      ],
      "metadata": {
        "colab": {
          "base_uri": "https://localhost:8080/"
        },
        "id": "9el9YOtWzCMU",
        "outputId": "3842e84a-0c3a-48ec-8eb3-3f2e472ef3cc"
      },
      "execution_count": 19,
      "outputs": [
        {
          "output_type": "stream",
          "name": "stdout",
          "text": [
            "[[  0   0   0   0   0   0   0   0   0   0  97 119 110 114 127 127 124 129\n",
            "  170   9   0   0   0   0   0   0   0   0]\n",
            " [  0   0   0   0   0   0   0   0   0   0 228 213 204 205 233 215 216 211\n",
            "  253 122   0   0   0   0   0   0   0   0]\n",
            " [  0   0   0   0   0   0   0   0   0  48 213 173 174 181 200 173 179 185\n",
            "  209 179   0   0   0   0   0   0   0   0]\n",
            " [  0   0   0   0   0   0   0   0   0  97 210 175 179 193 194 184 191 188\n",
            "  204 205   0   0   0   0   0   0   0   0]\n",
            " [  0   0   0   0   0   0   0   0   0 120 201 176 191 182 205 197 186 183\n",
            "  204 209   0   0   0   0   0   0   0   0]\n",
            " [  0   0   0   0   0   0   0   0   0 143 194 182 171 185 212 189 171 186\n",
            "  209 193   0   0   0   0   0   0   0   0]\n",
            " [  0   0   0   0   0   0   0   0   0 154 192 176 172 212 233 186 187 184\n",
            "  215 180   0   0   0   0   0   0   0   0]\n",
            " [  0   0   0   0   0   0   0   0   0 158 193 173 184 245 186 198 177 181\n",
            "  225 155   0   0   0   0   0   0   0   0]\n",
            " [  0   0   0   0   0   0   0   0   0 160 190 170 220 236  55 212 179 185\n",
            "  237 125   0   0   0   0   0   0   0   0]\n",
            " [  0   0   0   0   0   0   0   0   0 156 192 180 234 209   0 228 180 185\n",
            "  244  98   0   0   0   0   0   0   0   0]\n",
            " [  0   0   0   0   0   0   0   0   0 142 195 181 238 187   0 225 186 189\n",
            "  250  62   0   0   0   0   0   0   0   0]\n",
            " [  0   0   0   0   0   0   0   0   0 125 202 184 253 137   0 216 192 192\n",
            "  250  19   0   0   0   0   0   0   0   0]\n",
            " [  0   0   0   0   0   0   0   0   0 112 206 184 255  72   0 202 193 191\n",
            "  248   5   0   0   0   0   0   0   0   0]\n",
            " [  0   0   0   0   0   0   0   0   0 106 208 187 254   6   0 178 195 195\n",
            "  238   0   0   0   0   0   0   0   0   0]\n",
            " [  0   0   0   0   0   0   0   0   0 102 208 197 252   0   0 152 198 200\n",
            "  220   0   0   0   0   0   0   0   0   0]\n",
            " [  0   0   0   0   0   0   0   0   0 102 212 205 226   0   0 113 201 203\n",
            "  207   0   0   0   0   0   0   0   0   0]\n",
            " [  0   0   0   0   0   0   0   0   0  90 199 208 215   0   0  93 203 204\n",
            "  190   0   0   0   0   0   0   0   0   0]\n",
            " [  0   0   0   0   0   0   0   0   0  51 225 207 222   0   0 105 204 205\n",
            "  177   0   0   0   0   0   0   0   0   0]\n",
            " [  0   0   0   0   0   0   0   0   0  28 230 204 223   0   0 128 201 205\n",
            "  161   0   0   0   0   0   0   0   0   0]\n",
            " [  0   0   0   0   0   0   0   0   0  26 198 201 240   0   0 146 200 209\n",
            "  138   0   0   0   0   0   0   0   0   0]\n",
            " [  0   0   0   0   0   0   0   0   0   3 191 201 209   0   0 169 199 212\n",
            "  108   0   0   0   0   0   0   0   0   0]\n",
            " [  0   0   0   0   0   0   0   0   0   0 213 203 213   8   0 184 197 214\n",
            "   90   0   0   0   0   0   0   0   0   0]\n",
            " [  0   0   0   0   0   0   0   0   0   0 194 207 215  18   0 192 197 214\n",
            "   65   0   0   0   0   0   0   0   0   0]\n",
            " [  0   0   0   0   0   0   0   0   0   0 163 212 220  43   0 203 199 210\n",
            "   29   0   0   0   0   0   0   0   0   0]\n",
            " [  0   0   0   0   0   0   0   0   0   0 135 214 221  64   0 209 201 208\n",
            "    3   0   0   0   0   0   0   0   0   0]\n",
            " [  0   0   0   0   0   0   0   0   0   0  91 210 221  87   0 206 202 197\n",
            "    0   0   0   0   0   0   0   0   0   0]\n",
            " [  0   0   0   0   0   0   0   0   0   0  70 222 228  88   0 247 221 195\n",
            "    0   0   0   0   0   0   0   0   0   0]\n",
            " [  0   0   0   0   0   0   0   0   0   0   0 146  55   0   0  61 149 124\n",
            "    0   0   0   0   0   0   0   0   0   0]]\n"
          ]
        }
      ]
    }
  ]
}